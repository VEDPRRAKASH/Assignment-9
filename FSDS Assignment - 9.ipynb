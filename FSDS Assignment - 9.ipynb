{
 "cells": [
  {
   "cell_type": "code",
   "execution_count": 1,
   "id": "692722eb",
   "metadata": {},
   "outputs": [],
   "source": [
    "#1. To what does a relative path refer?\n",
    "#Solution: Relative paths are relative to the current working directory."
   ]
  },
  {
   "cell_type": "code",
   "execution_count": 2,
   "id": "0898a7bc",
   "metadata": {},
   "outputs": [],
   "source": [
    "#2. What does an absolute path start with your operating system?\n",
    "#Solution: Absolute paths start with the root folder, such as / or C:\\."
   ]
  },
  {
   "cell_type": "code",
   "execution_count": 3,
   "id": "84a8e7ad",
   "metadata": {},
   "outputs": [],
   "source": [
    "#3. What do the functions os.getcwd() and os.chdir() do?\n",
    "#Solution: The os.getcwd() function returns the current working directory. The os.chdir() function changes the current working directory."
   ]
  },
  {
   "cell_type": "code",
   "execution_count": 4,
   "id": "1d776538",
   "metadata": {},
   "outputs": [],
   "source": [
    "#4. What are the . and .. folders?\n",
    "#Solution: The . folder is the current folder, and .. is the parent folder"
   ]
  },
  {
   "cell_type": "code",
   "execution_count": 5,
   "id": "b723ac9b",
   "metadata": {},
   "outputs": [],
   "source": [
    "#5. In C:\\bacon\\eggs\\spam.txt, which part is the dir name, and which part is the base name?\n",
    "#Solution: C:\\bacon\\eggs is the dir name, and spam.txt is the base name."
   ]
  },
  {
   "cell_type": "code",
   "execution_count": 6,
   "id": "091e0598",
   "metadata": {},
   "outputs": [],
   "source": [
    "#6. What are the three “mode” arguments that can be passed to the open() function?\n",
    "#Solution: The string 'r' for read mode, 'w' for write mode, and 'a' for append mode can be passed to the open() function."
   ]
  },
  {
   "cell_type": "code",
   "execution_count": 7,
   "id": "4c90d6c3",
   "metadata": {},
   "outputs": [],
   "source": [
    "#7. What happens if an existing file is opened in write mode?\n",
    "#Solution: An existing file opened in write mode is erased and completely overwritten."
   ]
  },
  {
   "cell_type": "code",
   "execution_count": 8,
   "id": "e0d53c5d",
   "metadata": {},
   "outputs": [],
   "source": [
    "#8. How do you tell the difference between read() and readlines()?\n",
    "#Solution: The read() method returns the file’s entire contents as a single string value. The readlines() method returns a list of strings, where each string is a line from the file’s contents."
   ]
  },
  {
   "cell_type": "code",
   "execution_count": 9,
   "id": "9448d0ed",
   "metadata": {},
   "outputs": [],
   "source": [
    "#9. What data structure does a shelf value resemble?\n",
    "#Solution: A shelf value resembles a dictionary value; it has keys and values, along with keys() and values() methods that work similarly to the dictionary methods of the same names."
   ]
  }
 ],
 "metadata": {
  "kernelspec": {
   "display_name": "Python 3 (ipykernel)",
   "language": "python",
   "name": "python3"
  },
  "language_info": {
   "codemirror_mode": {
    "name": "ipython",
    "version": 3
   },
   "file_extension": ".py",
   "mimetype": "text/x-python",
   "name": "python",
   "nbconvert_exporter": "python",
   "pygments_lexer": "ipython3",
   "version": "3.9.7"
  }
 },
 "nbformat": 4,
 "nbformat_minor": 5
}
